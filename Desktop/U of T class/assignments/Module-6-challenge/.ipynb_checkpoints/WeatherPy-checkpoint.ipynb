{
 "cells": [
  {
   "cell_type": "markdown",
   "metadata": {},
   "source": [
    "# WeatherPy\n",
    "\n",
    "---\n",
    "\n",
    "## Starter Code to Generate Random Geographic Coordinates and a List of Cities"
   ]
  },
  {
   "cell_type": "code",
   "execution_count": 1,
   "metadata": {
    "scrolled": true
   },
   "outputs": [],
   "source": [
    "# Dependencies and Setup\n",
    "import matplotlib.pyplot as plt\n",
    "import pandas as pd\n",
    "import numpy as np\n",
    "import scipy.stats as st\n",
    "import requests\n",
    "import time\n",
    "from scipy.stats import linregress\n",
    "\n",
    "# Impor the OpenWeatherMap API key\n",
    "from api_keys import weather_api_key\n",
    "\n",
    "# Import citipy to determine the cities based on latitude and longitude\n",
    "from citipy import citipy"
   ]
  },
  {
   "cell_type": "markdown",
   "metadata": {},
   "source": [
    "### Generate the Cities List by Using the `citipy` Library"
   ]
  },
  {
   "cell_type": "code",
   "execution_count": 2,
   "metadata": {},
   "outputs": [
    {
     "name": "stdout",
     "output_type": "stream",
     "text": [
      "Number of cities in the list: 600\n"
     ]
    }
   ],
   "source": [
    "# Empty list for holding the latitude and longitude combinations\n",
    "lat_lngs = []\n",
    "\n",
    "# Empty list for holding the cities names\n",
    "cities = []\n",
    "\n",
    "# Range of latitudes and longitudes\n",
    "lat_range = (-90, 90)\n",
    "lng_range = (-180, 180)\n",
    "\n",
    "# Create a set of random lat and lng combinations\n",
    "lats = np.random.uniform(lat_range[0], lat_range[1], size=1500)\n",
    "lngs = np.random.uniform(lng_range[0], lng_range[1], size=1500)\n",
    "lat_lngs = zip(lats, lngs)\n",
    "\n",
    "# Identify nearest city for each lat, lng combination\n",
    "for lat_lng in lat_lngs:\n",
    "    city = citipy.nearest_city(lat_lng[0], lat_lng[1]).city_name\n",
    "    \n",
    "    # If the city is unique, then add it to a our cities list\n",
    "    if city not in cities:\n",
    "        cities.append(city)\n",
    "\n",
    "# Print the city count to confirm sufficient count\n",
    "print(f\"Number of cities in the list: {len(cities)}\")"
   ]
  },
  {
   "cell_type": "markdown",
   "metadata": {},
   "source": [
    "---"
   ]
  },
  {
   "cell_type": "markdown",
   "metadata": {},
   "source": [
    "## Requirement 1: Create Plots to Showcase the Relationship Between Weather Variables and Latitude\n",
    "\n",
    "### Use the OpenWeatherMap API to retrieve weather data from the cities list generated in the started code"
   ]
  },
  {
   "cell_type": "code",
   "execution_count": null,
   "metadata": {},
   "outputs": [
    {
     "name": "stdout",
     "output_type": "stream",
     "text": [
      "Beginning Data Retrieval     \n",
      "-----------------------------\n",
      "Processing Record 1 of Set 1 | adamstown\n",
      "Processing Record 2 of Set 1 | port-aux-francais\n",
      "Processing Record 3 of Set 1 | acapulco de juarez\n",
      "Processing Record 4 of Set 1 | wailua homesteads\n",
      "Processing Record 5 of Set 1 | krasnogvardeyskoye\n",
      "Processing Record 6 of Set 1 | kudat\n",
      "Processing Record 7 of Set 1 | gardabani\n",
      "Processing Record 8 of Set 1 | constantia\n",
      "Processing Record 9 of Set 1 | melo\n",
      "Processing Record 10 of Set 1 | puerto natales\n",
      "Processing Record 11 of Set 1 | paita\n",
      "Processing Record 12 of Set 1 | papatowai\n",
      "Processing Record 13 of Set 1 | iskateley\n",
      "Processing Record 14 of Set 1 | college\n",
      "Processing Record 15 of Set 1 | ushuaia\n",
      "Processing Record 16 of Set 1 | kamina\n",
      "Processing Record 17 of Set 1 | kazalinsk\n",
      "City not found. Skipping...\n",
      "Processing Record 18 of Set 1 | bilibino\n",
      "Processing Record 19 of Set 1 | howrah\n",
      "Processing Record 20 of Set 1 | klyuchi\n",
      "Processing Record 21 of Set 1 | kismayo\n",
      "Processing Record 22 of Set 1 | blackmans bay\n",
      "Processing Record 23 of Set 1 | mangalia\n",
      "Processing Record 24 of Set 1 | tolanaro\n",
      "Processing Record 25 of Set 1 | santa flavia\n",
      "Processing Record 26 of Set 1 | qamdo\n",
      "Processing Record 27 of Set 1 | sitka\n",
      "Processing Record 28 of Set 1 | coquimbo\n",
      "Processing Record 29 of Set 1 | geraldton\n",
      "Processing Record 30 of Set 1 | avarua\n",
      "Processing Record 31 of Set 1 | bethel\n",
      "Processing Record 32 of Set 1 | kisanga\n",
      "Processing Record 33 of Set 1 | olonkinbyen\n",
      "Processing Record 34 of Set 1 | grytviken\n",
      "Processing Record 35 of Set 1 | ancud\n",
      "Processing Record 36 of Set 1 | uribia\n",
      "Processing Record 37 of Set 1 | hawaiian paradise park\n",
      "Processing Record 38 of Set 1 | fisterra\n",
      "Processing Record 39 of Set 1 | edinburgh of the seven seas\n",
      "Processing Record 40 of Set 1 | mombetsu\n",
      "Processing Record 41 of Set 1 | las khorey\n",
      "Processing Record 42 of Set 1 | new norfolk\n",
      "Processing Record 43 of Set 1 | margate\n",
      "Processing Record 44 of Set 1 | invercargill\n",
      "Processing Record 45 of Set 1 | chonchi\n",
      "Processing Record 46 of Set 1 | ocean shores\n",
      "Processing Record 47 of Set 1 | nemuro\n",
      "Processing Record 48 of Set 1 | acarau\n",
      "Processing Record 49 of Set 1 | ambajogai\n",
      "Processing Record 50 of Set 1 | hamilton\n",
      "Processing Record 1 of Set 2 | montepuez\n",
      "Processing Record 2 of Set 2 | rio preto da eva\n",
      "Processing Record 3 of Set 2 | west island\n",
      "Processing Record 4 of Set 2 | ribeira grande\n",
      "Processing Record 5 of Set 2 | mossel bay\n",
      "Processing Record 6 of Set 2 | shimoda\n",
      "Processing Record 7 of Set 2 | khovd\n",
      "Processing Record 8 of Set 2 | jamestown\n",
      "Processing Record 9 of Set 2 | panjakent\n",
      "Processing Record 10 of Set 2 | ryotsu-minato\n",
      "Processing Record 11 of Set 2 | waitangi\n",
      "Processing Record 12 of Set 2 | queenstown\n",
      "Processing Record 13 of Set 2 | afaahiti\n",
      "Processing Record 14 of Set 2 | darwin\n",
      "Processing Record 15 of Set 2 | marudi\n",
      "City not found. Skipping...\n",
      "Processing Record 16 of Set 2 | tiksi\n",
      "Processing Record 17 of Set 2 | rongelap\n",
      "Processing Record 18 of Set 2 | nagqu\n",
      "Processing Record 19 of Set 2 | vadso\n",
      "Processing Record 20 of Set 2 | chigorodo\n",
      "Processing Record 21 of Set 2 | palikir - national government center\n",
      "Processing Record 22 of Set 2 | yellowknife\n",
      "Processing Record 23 of Set 2 | puerto quijarro\n",
      "Processing Record 24 of Set 2 | salinopolis\n",
      "Processing Record 25 of Set 2 | baki\n",
      "Processing Record 26 of Set 2 | east london\n",
      "Processing Record 27 of Set 2 | eirunepe\n",
      "Processing Record 28 of Set 2 | byron bay\n",
      "Processing Record 29 of Set 2 | lau\n",
      "Processing Record 30 of Set 2 | taltal\n",
      "Processing Record 31 of Set 2 | sao sebastiao do paraiso\n",
      "Processing Record 32 of Set 2 | linxia chengguanzhen\n",
      "Processing Record 33 of Set 2 | paciran\n",
      "Processing Record 34 of Set 2 | laramie\n",
      "Processing Record 35 of Set 2 | ambalangoda\n",
      "Processing Record 36 of Set 2 | longyearbyen\n",
      "Processing Record 37 of Set 2 | mejit\n",
      "Processing Record 38 of Set 2 | pemangkat\n",
      "Processing Record 39 of Set 2 | mukah\n",
      "City not found. Skipping...\n",
      "Processing Record 40 of Set 2 | male\n",
      "Processing Record 41 of Set 2 | ankazoabo\n",
      "Processing Record 42 of Set 2 | betio village\n",
      "Processing Record 43 of Set 2 | swakopmund\n",
      "Processing Record 44 of Set 2 | ghazni\n",
      "Processing Record 45 of Set 2 | sinabang\n",
      "Processing Record 46 of Set 2 | yaren\n",
      "Processing Record 47 of Set 2 | villamontes\n",
      "Processing Record 48 of Set 2 | talnakh\n",
      "Processing Record 49 of Set 2 | manay\n",
      "Processing Record 50 of Set 2 | gao\n",
      "Processing Record 1 of Set 3 | kailua-kona\n",
      "Processing Record 2 of Set 3 | puerto ayora\n",
      "Processing Record 3 of Set 3 | aoulef\n",
      "Processing Record 4 of Set 3 | mahibadhoo\n",
      "Processing Record 5 of Set 3 | kone\n",
      "Processing Record 6 of Set 3 | sonsorol village\n",
      "City not found. Skipping...\n",
      "Processing Record 7 of Set 3 | ebon\n",
      "Processing Record 8 of Set 3 | albany\n",
      "Processing Record 9 of Set 3 | seryshevo\n",
      "Processing Record 10 of Set 3 | noyabrsk\n",
      "Processing Record 11 of Set 3 | anadyr\n",
      "Processing Record 12 of Set 3 | rio grande\n",
      "Processing Record 13 of Set 3 | uturoa\n",
      "Processing Record 14 of Set 3 | puerto san carlos\n",
      "City not found. Skipping...\n",
      "Processing Record 15 of Set 3 | ilulissat\n",
      "Processing Record 16 of Set 3 | aykhal\n",
      "Processing Record 17 of Set 3 | negombo\n",
      "Processing Record 18 of Set 3 | mata-utu\n",
      "Processing Record 19 of Set 3 | mogocha\n",
      "Processing Record 20 of Set 3 | berezovyy\n",
      "Processing Record 21 of Set 3 | melekeok village\n",
      "Processing Record 22 of Set 3 | puerto penasco\n",
      "Processing Record 23 of Set 3 | ugoofaaru\n",
      "Processing Record 24 of Set 3 | tara\n",
      "Processing Record 25 of Set 3 | sao jose da coroa grande\n",
      "Processing Record 26 of Set 3 | pisco\n",
      "Processing Record 27 of Set 3 | badger\n",
      "Processing Record 28 of Set 3 | bowie\n",
      "Processing Record 29 of Set 3 | margaret river\n",
      "Processing Record 30 of Set 3 | benguela\n",
      "Processing Record 31 of Set 3 | usman'\n",
      "Processing Record 32 of Set 3 | nong khai\n",
      "Processing Record 33 of Set 3 | zeya\n",
      "Processing Record 34 of Set 3 | sretensk\n",
      "Processing Record 35 of Set 3 | port alfred\n",
      "Processing Record 36 of Set 3 | dudinka\n",
      "Processing Record 37 of Set 3 | tsiombe\n",
      "Processing Record 38 of Set 3 | sirte\n",
      "Processing Record 39 of Set 3 | ventspils\n",
      "Processing Record 40 of Set 3 | st. john's\n",
      "Processing Record 41 of Set 3 | al wajh\n",
      "Processing Record 42 of Set 3 | howard springs\n",
      "Processing Record 43 of Set 3 | pajok\n",
      "Processing Record 44 of Set 3 | ola\n",
      "Processing Record 45 of Set 3 | bykhaw\n",
      "Processing Record 46 of Set 3 | tura\n",
      "Processing Record 47 of Set 3 | paso de carrasco\n",
      "Processing Record 48 of Set 3 | viedma\n",
      "Processing Record 49 of Set 3 | whitehorse\n",
      "Processing Record 50 of Set 3 | bredasdorp\n",
      "Processing Record 1 of Set 4 | vallenar\n",
      "Processing Record 2 of Set 4 | alta\n",
      "Processing Record 3 of Set 4 | santa ana de yacuma\n",
      "Processing Record 4 of Set 4 | bridgewater\n",
      "Processing Record 5 of Set 4 | galliano\n",
      "Processing Record 6 of Set 4 | stanley\n",
      "Processing Record 7 of Set 4 | colonia\n",
      "Processing Record 8 of Set 4 | kharan\n",
      "Processing Record 9 of Set 4 | arbus\n",
      "Processing Record 10 of Set 4 | hami\n",
      "Processing Record 11 of Set 4 | punta arenas\n",
      "Processing Record 12 of Set 4 | west bay\n",
      "Processing Record 13 of Set 4 | kikwit\n",
      "Processing Record 14 of Set 4 | kodiak\n"
     ]
    }
   ],
   "source": [
    "# Set the API base URL\n",
    "url = \"https://api.openweathermap.org/data/2.5/weather?q=\"\n",
    "\n",
    "# Define an empty list to fetch the weather data for each city\n",
    "city_data = []\n",
    "\n",
    "# Print to logger\n",
    "print(\"Beginning Data Retrieval     \")\n",
    "print(\"-----------------------------\")\n",
    "\n",
    "# Create counters\n",
    "record_count = 1\n",
    "set_count = 1\n",
    "\n",
    "# Loop through all the cities in our list to fetch weather data\n",
    "for i, city in enumerate(cities):\n",
    "        \n",
    "    # Group cities in sets of 50 for logging purposes\n",
    "    if (i % 50 == 0 and i >= 50):\n",
    "        set_count += 1\n",
    "        record_count = 1\n",
    "\n",
    "    # Create endpoint URL with each city\n",
    "    city_url =f\"{url}{city}&appid={weather_api_key}\"\n",
    "    \n",
    "    # Log the url, record, and set numbers\n",
    "    print(\"Processing Record %s of Set %s | %s\" % (record_count, set_count, city))\n",
    "\n",
    "    # Add 1 to the record count\n",
    "    record_count += 1\n",
    "    \n",
    "    # Parse the JSON and retrieve data\n",
    "    city_weather = requests.get(city_url).json()\n",
    "        \n",
    "#     # Run an API request for each of the cities\n",
    "    try:\n",
    "        # Parse out latitude, longitude, max temp, humidity, cloudiness, wind speed, country, and date\n",
    "        city_lat = city_weather['coord']['lat']\n",
    "        city_lng = city_weather['coord']['lon']\n",
    "        city_max_temp = city_weather['main']['temp_max']\n",
    "        city_humidity =city_weather['main']['humidity']\n",
    "        city_clouds = city_weather['clouds']['all']\n",
    "        city_wind =city_weather['wind']['speed']\n",
    "        city_country = city_weather['sys']['country']\n",
    "        city_date = city_weather['dt']\n",
    "           \n",
    "        # Append the City information into city_data list\n",
    "        city_data.append({\"City\": city, \n",
    "                          \"Lat\": city_lat, \n",
    "                          \"Lng\": city_lng, \n",
    "                          \"Max Temp\": city_max_temp,\n",
    "                          \"Humidity\": city_humidity,\n",
    "                          \"Cloudiness\": city_clouds,\n",
    "                          \"Wind Speed\": city_wind,\n",
    "                          \"Country\": city_country,\n",
    "                          \"Date\": city_date})\n",
    "    # If an error is experienced, skip the city\n",
    "    except:\n",
    "        # Append null values\n",
    "        print(\"City not found. Skipping...\")\n",
    "        pass\n",
    "    \n",
    "# # Indicate that Data Loading is complete \n",
    "# print(\"-----------------------------\")\n",
    "# print(\"Data Retrieval Complete      \")\n",
    "# print(\"-----------------------------\")"
   ]
  },
  {
   "cell_type": "code",
   "execution_count": null,
   "metadata": {},
   "outputs": [],
   "source": [
    "# Convert the cities weather data into a Pandas DataFrame\n",
    "city_data_df = pd.DataFrame(city_data)\n",
    "\n",
    "# Show Record Count\n",
    "city_data_df.count()"
   ]
  },
  {
   "cell_type": "code",
   "execution_count": null,
   "metadata": {},
   "outputs": [],
   "source": [
    "# Display sample data\n",
    "city_data_df.head()"
   ]
  },
  {
   "cell_type": "code",
   "execution_count": null,
   "metadata": {},
   "outputs": [],
   "source": [
    "# Export the City_Data into a csv\n",
    "city_data_df.to_csv(\"output_data/cities.csv\", index_label=\"City_ID\")"
   ]
  },
  {
   "cell_type": "code",
   "execution_count": null,
   "metadata": {},
   "outputs": [],
   "source": [
    "# Read saved data\n",
    "city_data_df = pd.read_csv(\"output_data/cities.csv\", index_col=\"City_ID\")\n",
    "\n",
    "# Display sample data\n",
    "city_data_df.head()"
   ]
  },
  {
   "cell_type": "markdown",
   "metadata": {},
   "source": [
    "### Create the Scatter Plots Requested\n",
    "\n",
    "#### Latitude Vs. Temperature"
   ]
  },
  {
   "cell_type": "code",
   "execution_count": null,
   "metadata": {
    "tags": []
   },
   "outputs": [],
   "source": [
    "# Build scatter plot for latitude vs. temperature\n",
    "plt.scatter(city_data_df['Lat'],city_data_df['Max Temp'], marker='o')\n",
    "\n",
    "# Incorporate the other graph properties\n",
    "plt.title(\"City Max Latitude vs. Temperature (2023-08-01)\")\n",
    "plt.ylabel(\"Max Temperature (C)\")\n",
    "plt.xlabel(\"Latitude\")\n",
    "plt.grid(True)\n",
    "\n",
    "\n",
    "# Save the figure\n",
    "plt.savefig(\"output_data/Fig1.png\")\n",
    "\n",
    "# Show plot\n",
    "plt.show()"
   ]
  },
  {
   "cell_type": "markdown",
   "metadata": {},
   "source": [
    "#### Latitude Vs. Humidity"
   ]
  },
  {
   "cell_type": "code",
   "execution_count": null,
   "metadata": {},
   "outputs": [],
   "source": [
    "# Build the scatter plots for latitude vs. humidity\n",
    "plt.scatter(city_data_df['Lat'],city_data_df['Humidity'], marker='o')\n",
    "\n",
    "\n",
    "# Incorporate the other graph properties\n",
    "plt.title(\"City Latitude vs. Humidity (2023-08-01)\")\n",
    "plt.ylabel(\"Humidity (%)\")\n",
    "plt.xlabel(\"Latitude\")\n",
    "plt.grid(True)\n",
    "\n",
    "# Save the figure\n",
    "plt.savefig(\"output_data/Fig2.png\")\n",
    "\n",
    "# Show plot\n",
    "plt.show()"
   ]
  },
  {
   "cell_type": "markdown",
   "metadata": {},
   "source": [
    "#### Latitude Vs. Cloudiness"
   ]
  },
  {
   "cell_type": "code",
   "execution_count": null,
   "metadata": {},
   "outputs": [],
   "source": [
    "# Build the scatter plots for latitude vs. cloudiness\n",
    "plt.scatter(city_data_df['Lat'],city_data_df['Cloudiness'], marker='o')\n",
    "\n",
    "\n",
    "# Incorporate the other graph properties\n",
    "plt.title(\"City Latitude vs. Cloudiness (2023-08-01)\")\n",
    "plt.ylabel(\"Cloudiness (%)\")\n",
    "plt.xlabel(\"Latitude\")\n",
    "plt.grid(True)\n",
    "\n",
    "# Save the figure\n",
    "plt.savefig(\"output_data/Fig3.png\")\n",
    "\n",
    "# Show plot\n",
    "plt.show()"
   ]
  },
  {
   "cell_type": "markdown",
   "metadata": {},
   "source": [
    "#### Latitude vs. Wind Speed Plot"
   ]
  },
  {
   "cell_type": "code",
   "execution_count": null,
   "metadata": {},
   "outputs": [],
   "source": [
    "# Build the scatter plots for latitude vs. wind speed\n",
    "plt.scatter(city_data_df['Lat'],city_data_df['Wind Speed'], marker='o')\n",
    "\n",
    "\n",
    "# Incorporate the other graph properties\n",
    "plt.title(\"City Latitude vs. Wind Speed (2023-08-01)\")\n",
    "plt.ylabel(\"Wind Speed (m/s)\")\n",
    "plt.xlabel(\"Latitude\")\n",
    "plt.grid(True)\n",
    "\n",
    "# Save the figure\n",
    "plt.savefig(\"output_data/Fig4.png\")\n",
    "\n",
    "# Show plot\n",
    "plt.show()"
   ]
  },
  {
   "cell_type": "markdown",
   "metadata": {},
   "source": [
    "---\n",
    "\n",
    "## Requirement 2: Compute Linear Regression for Each Relationship\n"
   ]
  },
  {
   "cell_type": "code",
   "execution_count": null,
   "metadata": {},
   "outputs": [],
   "source": [
    "# Define a function to create Linear Regression plots\n",
    "def linearRegression(x_values, y_values, title, x_label, y_label,line_eq_pos=(10,277)):\n",
    "    # Calculate the correlation\n",
    "    correlation = round(st.pearsonr(x_values,y_values)[0],2)\n",
    "\n",
    "    # Calculate linear regression values\n",
    "    (slope, intercept, rvalue, pvalue, stderr) = st.linregress(x_values,y_values)\n",
    "    regress_values = x_values * slope + intercept\n",
    "    line_eq = \"y = \" + str(round(slope,2)) + \"x + \" + str(round(intercept,2))\n",
    "    \n",
    "    #Gernerate scatter chart with liner regression line, equation of line, r-squared value\n",
    "    plt.scatter(x_values,y_values)\n",
    "    plt.plot(x_values,regress_values, 'r-')\n",
    "\n",
    "    # Plot the Annotation in the graph \n",
    "    plt.annotate(line_eq,line_eq_pos,fontsize=11,color=\"red\")\n",
    "\n",
    "    # Define title and x/y labels\n",
    "    plt.title(title, fontweight='bold')\n",
    "    plt.xlabel(x_label)\n",
    "    plt.ylabel(y_label)\n",
    "\n",
    "    print(f'The r-value is: {rvalue}')\n",
    "    plt.show()\n"
   ]
  },
  {
   "cell_type": "code",
   "execution_count": null,
   "metadata": {},
   "outputs": [],
   "source": [
    "# Create a DataFrame with the Northern Hemisphere data (Latitude >= 0)\n",
    "northern_hemi_df=city_data_df[city_data_df['Lat']>=0]\n",
    "\n",
    "# Display sample data\n",
    "northern_hemi_df.head()"
   ]
  },
  {
   "cell_type": "code",
   "execution_count": null,
   "metadata": {},
   "outputs": [],
   "source": [
    "# Create a DataFrame with the Southern Hemisphere data (Latitude < 0)\n",
    "southern_hemi_df=city_data_df[city_data_df['Lat']<0]\n",
    "\n",
    "# Display sample data\n",
    "southern_hemi_df.head()"
   ]
  },
  {
   "cell_type": "markdown",
   "metadata": {},
   "source": [
    "###  Temperature vs. Latitude Linear Regression Plot"
   ]
  },
  {
   "cell_type": "code",
   "execution_count": null,
   "metadata": {},
   "outputs": [],
   "source": [
    "# Linear regression on Northern Hemisphere\n",
    "title='Temperature vs. Latitude Linear Regression'\n",
    "x_label='Latitude'\n",
    "y_label='Max Temperature'\n",
    "linearRegression(northern_hemi_df['Lat'],northern_hemi_df['Max Temp'], title, x_label, y_label)"
   ]
  },
  {
   "cell_type": "code",
   "execution_count": null,
   "metadata": {},
   "outputs": [],
   "source": [
    "# Linear regression on Southern Hemisphere\n",
    "title='Temperature vs. Latitude Linear Regression'\n",
    "x_label='Latitude'\n",
    "y_label='Max Temperature'\n",
    "linearRegression(southern_hemi_df['Lat'],southern_hemi_df['Max Temp'], title, x_label, y_label,(-20,275))"
   ]
  },
  {
   "cell_type": "markdown",
   "metadata": {},
   "source": [
    "**Discussion about the linear relationship:** \n",
    "There is a moderatre negative correlation between temperature and latitude in the nothern hemisphere while\n",
    "there is a very strong positive correlation between temperature and latitude in southern hemisphere."
   ]
  },
  {
   "cell_type": "markdown",
   "metadata": {},
   "source": [
    "### Humidity vs. Latitude Linear Regression Plot"
   ]
  },
  {
   "cell_type": "code",
   "execution_count": null,
   "metadata": {},
   "outputs": [],
   "source": [
    "# Northern Hemisphere\n",
    "title='Humidity vs. Latitude Linear Regression'\n",
    "x_label='Latitude'\n",
    "y_label='Humidity'\n",
    "linearRegression(northern_hemi_df['Lat'],northern_hemi_df['Humidity'], title, x_label, y_label,(50,10))"
   ]
  },
  {
   "cell_type": "code",
   "execution_count": null,
   "metadata": {},
   "outputs": [],
   "source": [
    "# Southern Hemisphere\n",
    "title='Humidity vs. Latitude Linear Regression'\n",
    "x_label='Latitude'\n",
    "y_label='Humidity'\n",
    "linearRegression(southern_hemi_df['Lat'],southern_hemi_df['Humidity'], title, x_label, y_label,(-20,10))"
   ]
  },
  {
   "cell_type": "markdown",
   "metadata": {},
   "source": [
    "**Discussion about the linear relationship:** \n",
    "There is no or very weak negative correlation between humidity and latitude in the nothern hemisphere while\n",
    "there is a very weak positive correlation between temperature and latitude in southern hemisphere."
   ]
  },
  {
   "cell_type": "markdown",
   "metadata": {},
   "source": [
    "### Cloudiness vs. Latitude Linear Regression Plot"
   ]
  },
  {
   "cell_type": "code",
   "execution_count": null,
   "metadata": {},
   "outputs": [],
   "source": [
    "# Northern Hemisphere\n",
    "title='Cloudiness vs. Latitude Linear Regression'\n",
    "x_label='Latitude'\n",
    "y_label='Cloudiness'\n",
    "linearRegression(northern_hemi_df['Lat'],northern_hemi_df['Cloudiness'], title, x_label, y_label,(0,30))"
   ]
  },
  {
   "cell_type": "code",
   "execution_count": null,
   "metadata": {},
   "outputs": [],
   "source": [
    "# Southern Hemisphere\n",
    "title='Cloudiness vs. Latitude Linear Regression'\n",
    "x_label='Latitude'\n",
    "y_label='Cloudiness'\n",
    "linearRegression(southern_hemi_df['Lat'],southern_hemi_df['Cloudiness'], title, x_label, y_label,(-55,10))"
   ]
  },
  {
   "cell_type": "markdown",
   "metadata": {},
   "source": [
    "**Discussion about the linear relationship:** There is None or very weak negative correlation between Cloudiness and latitude in both hemisphere."
   ]
  },
  {
   "cell_type": "markdown",
   "metadata": {},
   "source": [
    "### Wind Speed vs. Latitude Linear Regression Plot"
   ]
  },
  {
   "cell_type": "code",
   "execution_count": null,
   "metadata": {},
   "outputs": [],
   "source": [
    "# Northern Hemisphere\n",
    "title='Wind Speed vs. Latitude Linear Regression'\n",
    "x_label='Latitude'\n",
    "y_label='Wind Speed'\n",
    "linearRegression(northern_hemi_df['Lat'],northern_hemi_df['Wind Speed'], title, x_label, y_label,(40,22))"
   ]
  },
  {
   "cell_type": "code",
   "execution_count": null,
   "metadata": {},
   "outputs": [],
   "source": [
    "# Southern Hemisphere\n",
    "title='Wind Speed vs. Latitude Linear Regression'\n",
    "x_label='Latitude'\n",
    "y_label='Wind Speed'\n",
    "linearRegression(southern_hemi_df['Lat'],southern_hemi_df['Wind Speed'], title, x_label, y_label,(-55,12.5))"
   ]
  },
  {
   "cell_type": "markdown",
   "metadata": {},
   "source": [
    "**Discussion about the linear relationship:** \n",
    "There is no or very weak negative correlation between wind speed and latitude in the nothern and southern hemisphere ."
   ]
  },
  {
   "cell_type": "code",
   "execution_count": null,
   "metadata": {},
   "outputs": [],
   "source": []
  }
 ],
 "metadata": {
  "anaconda-cloud": {},
  "kernel_info": {
   "name": "python3"
  },
  "kernelspec": {
   "display_name": "Python 3 (ipykernel)",
   "language": "python",
   "name": "python3"
  },
  "language_info": {
   "codemirror_mode": {
    "name": "ipython",
    "version": 3
   },
   "file_extension": ".py",
   "mimetype": "text/x-python",
   "name": "python",
   "nbconvert_exporter": "python",
   "pygments_lexer": "ipython3",
   "version": "3.10.9"
  },
  "latex_envs": {
   "LaTeX_envs_menu_present": true,
   "autoclose": false,
   "autocomplete": true,
   "bibliofile": "biblio.bib",
   "cite_by": "apalike",
   "current_citInitial": 1,
   "eqLabelWithNumbers": true,
   "eqNumInitial": 1,
   "hotkeys": {
    "equation": "Ctrl-E",
    "itemize": "Ctrl-I"
   },
   "labels_anchors": false,
   "latex_user_defs": false,
   "report_style_numbering": false,
   "user_envs_cfg": false
  },
  "nteract": {
   "version": "0.12.3"
  }
 },
 "nbformat": 4,
 "nbformat_minor": 4
}
